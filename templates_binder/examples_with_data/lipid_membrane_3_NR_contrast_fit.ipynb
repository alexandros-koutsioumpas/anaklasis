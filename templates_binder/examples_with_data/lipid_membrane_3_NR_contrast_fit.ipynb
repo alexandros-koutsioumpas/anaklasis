{
 "cells": [
  {
   "cell_type": "markdown",
   "id": "mathematical-wallet",
   "metadata": {},
   "source": [
    "## Supported lipid membrane, 3 contrast NR data refinement\n",
    "\n",
    "Co-refinement of Neutron reflectivity data acquired at different solvent contrasts is a quite useful method for the study of supported phospholipid membranes at the solid liquid interface. Here let's consider a 3 contrast dataset (D$_{2}$O, Si matched water and H$_{2}$O) of a DMPC supported bilayer at the Si / water interface acquired at the Platypus neutron reflectometer (ANSTO) and distributed as an example with the package [_refnx_](https://github.com/refnx/refnx/releases)."
   ]
  },
  {
   "cell_type": "markdown",
   "id": "focal-malta",
   "metadata": {},
   "source": [
    "First let's import _anaklasis_"
   ]
  },
  {
   "cell_type": "code",
   "execution_count": null,
   "id": "czech-allergy",
   "metadata": {},
   "outputs": [],
   "source": [
    "from anaklasis import anaklasis"
   ]
  },
  {
   "cell_type": "markdown",
   "id": "aware-hospital",
   "metadata": {},
   "source": [
    "We name the project as 'supported_bilayer_refinement'. All results will be exported in a folder with this name. Then we import the experimental curves and we set all input units to Angstrom."
   ]
  },
  {
   "cell_type": "code",
   "execution_count": null,
   "id": "piano-single",
   "metadata": {},
   "outputs": [],
   "source": [
    "project='supported_bilayer_refinement'\n",
    "in_file=['bilayer_D2O.dat','bilayer_SMW.dat','bilayer_H2O.dat']\n",
    "units=['A','A','A'] # all units in Angstrom"
   ]
  },
  {
   "cell_type": "markdown",
   "id": "saved-garlic",
   "metadata": {},
   "source": [
    "then we set the details of the fit. Note that we will perform MCMC sampling."
   ]
  },
  {
   "cell_type": "code",
   "execution_count": null,
   "id": "moderate-plenty",
   "metadata": {},
   "outputs": [],
   "source": [
    "fit_mode=0 # linear FOM\n",
    "fit_weight=[1,1,1] # equal fit weight for all three curves\n",
    "method = 'simple' # perform simple uncertainty estimation"
   ]
  },
  {
   "cell_type": "markdown",
   "id": "handy-allah",
   "metadata": {},
   "source": [
    "We have a single laterally uniform layer on the substrate (brush) so a single defined model (patch) of 100% coverage"
   ]
  },
  {
   "cell_type": "code",
   "execution_count": null,
   "id": "atomic-placement",
   "metadata": {},
   "outputs": [],
   "source": [
    "patches=[1.0]"
   ]
  },
  {
   "cell_type": "markdown",
   "id": "statutory-hearts",
   "metadata": {},
   "source": [
    "We model the interface as Si/ SiO$_{2}$ / thin water layer / inner lipid heads / inner lipid tails / outer lipid tails / outer lipid heads / water (solvent), where solvent may partially penetrate in each lipid layer. Given that the surface area per molecule ($A_{pm}$) is the same for both lipid leaflets the sld (not accounting for water penetration) and solvent volume fraction $\\phi_{solv}$ of each of the 4 lipid layers is given by $sld_{i}=\\frac{b_{i}}{A_{pm}t_{i}}$ and $\\phi_{solv_i}=1-\\frac{V_{i}}{A_{pm}t_{i}}$ where $t$ the layer thickness, $b$ and $V$ the corresponding scattering length and molecular volume respectively. We construct the model _list_ where we use 10 global_parameters and one multi_parameter."
   ]
  },
  {
   "cell_type": "code",
   "execution_count": null,
   "id": "important-blair",
   "metadata": {},
   "outputs": [],
   "source": [
    "system = [[\n",
    "\t# Re_s;d Im_sld thk rough solv description\n",
    "\t[  2.07e-6, 0.0, 0, 2.0, 0.0, 'Si'],\n",
    "\t[ 3.5e-6, 0.0, 10, 'p0', 0.0, 'SiO2'],\n",
    "\t[ 'm0', 0.0, 'p1', 'p0', 1.0, 'water'],\n",
    "\t[ 'p5/(p9*p3)', 0.0, 'p3', 'p0', '1.0-p7/(p9*p3)', 'inner_heads'],\n",
    "\t[ 'p6/(p9*p2)', 0.0, 'p2', 'p0', '1.0-p8/(p9*p2)', 'inner_tails'],\n",
    "\t[ 'p6/(p9*p2)', 0.0, 'p2', 'p0', '1.0-p8/(p9*p2)', 'outer_tails'],\n",
    "\t[ 'p5/(p9*p4)', 0.0, 'p4', 'p0', '1.0-p7/(p9*p4)', 'outer_heads'],\n",
    "\t[  'm0', 0.0,  0, 0.0, 1.0, 'bulk'],\n",
    "\t]]\n",
    "\n",
    "global_param = [\n",
    "    # param  min  max  description, for type 'uniform'\n",
    "    # param  mean sd   description  for type 'normal'\n",
    "\t['p0', 2.0, 0.5, 'roughness','normal'], #free\n",
    "\t['p1', 3.0, 15.0, 'water_d','uniform'], #free\n",
    "\t['p2', 7.0, 20.0, 'tail_d','uniform'], #free\n",
    "\t['p3', 5.0, 15.0, 'inner_head_d','uniform'], #free\n",
    "\t['p4', 5.0, 15.0, 'outer_head_d','uniform'], #free\n",
    "\t['p5', 6.01e-4, 6.01e-4, 'b_heads','uniform'], #fixed\n",
    "\t['p6', -2.92e-4, -2.92e-4, 'b_tails','uniform'], #fixed\n",
    "\t['p7', 319, 319, 'V_heads','uniform'], #fixed\n",
    "\t['p8', 782, 782, 'V_tails','uniform'], #fixed\n",
    "\t['p9', 40, 70, 'area_lipid','uniform'], #free\n",
    "\t]\n",
    "\n",
    "multi_param = [\n",
    "\t# param  min  max  min max min max description type\n",
    "\t['m0', 6.15e-6, 6.40e-6, 1.80e-6, 2.30e-6, -0.56e-6, 0.0e-6, 'solv_sld','uniform'] #free\n",
    "\t]"
   ]
  },
  {
   "cell_type": "markdown",
   "id": "three-toyota",
   "metadata": {},
   "source": [
    "Note that we have set the water sld as a multi_parameter since it has a different value for each input curve. We have also chosen to use different min/max bound values (uniform distribution) for all three contrasts, thus leaving the solvent sld as a free parameter, accounting for not a perfect solvent exchange during the measurement procedure."
   ]
  },
  {
   "cell_type": "markdown",
   "id": "classified-stomach",
   "metadata": {},
   "source": [
    "We also need to keep during refinement the solvent volume fraction of the lipid layers larger than zero. So we apply the folliwng three constraints."
   ]
  },
  {
   "cell_type": "code",
   "execution_count": null,
   "id": "remarkable-expression",
   "metadata": {},
   "outputs": [],
   "source": [
    "constraints = [\n",
    "\t'1.0-p8/(p9*p2)>0', \n",
    "\t'1.0-p7/(p9*p4)>0', \n",
    "\t'1.0-p7/(p9*p3)>0', \n",
    "\t]\n"
   ]
  },
  {
   "cell_type": "markdown",
   "id": "unlike-cheat",
   "metadata": {},
   "source": [
    "we also define the instrumental parameters. Background and scale are left as free parameters. The data contain a 4-th column $dQ$ so we set resolution=-1 (pointwise resolution calculation)."
   ]
  },
  {
   "cell_type": "code",
   "execution_count": null,
   "id": "known-belly",
   "metadata": {},
   "outputs": [],
   "source": [
    "resolution=[-1,-1,-1] # pointwise resolution\n",
    "background = [\n",
    "\t[0.0,1.0e-5,'uniform'], # background is left free for all three curves\n",
    "\t[0.0,1.0e-5,'uniform'],\n",
    "\t[0.0,1.0e-5,'uniform'],\n",
    "\t]\n",
    "scale = [\n",
    "\t[1.0,0.2,'normal'], # curve scale is also a free parmater for all curves\n",
    "\t[1.0,0.2,'normal'],\n",
    "\t[1.0,0.2,'normal'],\n",
    "\t]"
   ]
  },
  {
   "cell_type": "markdown",
   "id": "applicable-blame",
   "metadata": {},
   "source": [
    "We finally call the _anaklasis.fit_ function and store the results in the _tuple_ _res_."
   ]
  },
  {
   "cell_type": "code",
   "execution_count": null,
   "id": "oriented-alabama",
   "metadata": {},
   "outputs": [],
   "source": [
    "res = anaklasis.fit(project,in_file,units,fit_mode,fit_weight,method,resolution,patches,system,global_param,multi_param,constraints,background,scale,experror=True,plot=True,fast=True)\n"
   ]
  }
 ],
 "metadata": {
  "kernelspec": {
   "display_name": "Python 3",
   "language": "python",
   "name": "python3"
  },
  "language_info": {
   "codemirror_mode": {
    "name": "ipython",
    "version": 3
   },
   "file_extension": ".py",
   "mimetype": "text/x-python",
   "name": "python",
   "nbconvert_exporter": "python",
   "pygments_lexer": "ipython3",
   "version": "3.9.1"
  }
 },
 "nbformat": 4,
 "nbformat_minor": 5
}
