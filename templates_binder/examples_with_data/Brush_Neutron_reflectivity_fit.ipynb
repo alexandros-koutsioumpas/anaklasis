{
 "cells": [
  {
   "cell_type": "markdown",
   "id": "preceding-noise",
   "metadata": {},
   "source": [
    "## Fit of Neutron Reflectivity data from a polymer Brush\n",
    "\n",
    "Suppose that we want to fit NR data of a polymer brushe at the Quartz/d-toluene interface. Polymer brushes have parabolic volume fraction profiles of the form: $\\phi(z) = \\phi(0) \\left[ 1 - (\\frac{z}{L})^n\\right]$ where $\\phi$ is the polymer volume fraction, $L$ is the brush extension, $n$ the exponent and $z$ the distance from the substrate."
   ]
  },
  {
   "cell_type": "markdown",
   "id": "neutral-sector",
   "metadata": {},
   "source": [
    "First let's import _anaklasis_"
   ]
  },
  {
   "cell_type": "code",
   "execution_count": null,
   "id": "residential-approval",
   "metadata": {},
   "outputs": [],
   "source": [
    "from anaklasis import anaklasis"
   ]
  },
  {
   "cell_type": "markdown",
   "id": "neural-france",
   "metadata": {},
   "source": [
    "We name the project as 'Brush_fit'. All results will be exported in a folder with this name. Then we import the experimental curve and we set input units to Angstrom."
   ]
  },
  {
   "cell_type": "code",
   "execution_count": null,
   "id": "perfect-department",
   "metadata": {},
   "outputs": [],
   "source": [
    "project='Brush_fit'\n",
    "in_file=['DA34424a.dat']\n",
    "units=['A'] # Angstrom units"
   ]
  },
  {
   "cell_type": "markdown",
   "id": "operational-collective",
   "metadata": {},
   "source": [
    "then we set the details of the fit. Note that we will perform MCMC sampling."
   ]
  },
  {
   "cell_type": "code",
   "execution_count": null,
   "id": "micro-updating",
   "metadata": {},
   "outputs": [],
   "source": [
    "fit_mode=0 # linear\n",
    "fit_weight=[1] \n",
    "method = 'mcmc' # Markov Chain Monte Carlo"
   ]
  },
  {
   "cell_type": "markdown",
   "id": "retained-memorabilia",
   "metadata": {},
   "source": [
    "We have a single laterally uniform layer on the substrate (brush) so a single defined model (patch) of 100% coverage"
   ]
  },
  {
   "cell_type": "code",
   "execution_count": null,
   "id": "normal-price",
   "metadata": {},
   "outputs": [],
   "source": [
    "patches=[1.0]"
   ]
  },
  {
   "cell_type": "markdown",
   "id": "tropical-charleston",
   "metadata": {},
   "source": [
    "We define all layers except for the brush. Note that a thin water layer is always present on the substrate in these measurements. A global parameter (that will be defined later) is associated with the thickness of this thin water layer. all other layer parameters are fixed."
   ]
  },
  {
   "cell_type": "code",
   "execution_count": null,
   "id": "fifty-humanity",
   "metadata": {},
   "outputs": [],
   "source": [
    "system=[]\n",
    "system.append([\n",
    "\t# Re_sld Im_sld thk rough solv description\n",
    "\t[  4.32e-6, 0.0, 0, 5, 0.0, 'Quartz'],\n",
    "\t[ -0.56e-6, 0.0, 'p3', 3, 0.0, 'water'],\n",
    "\t[  5.86e-6, 0.0,  0, 0, 1.0, 'd-toluene'],\n",
    "\t])"
   ]
  },
  {
   "cell_type": "markdown",
   "id": "medium-services",
   "metadata": {},
   "source": [
    "We will now insert between water layer and d-toluene, 20 slices representing the polymer brush. These layers will all have the same polymer sld and a varying solvent volume fraction ($1-\\phi(z)$). For this reason we first define a symbolic expression for the solvent volume fraction."
   ]
  },
  {
   "cell_type": "code",
   "execution_count": null,
   "id": "rental-california",
   "metadata": {},
   "outputs": [],
   "source": [
    "expr='1-p0+(p0/(p1**p2))*((p1/20)*(n-1.5))**p2'"
   ]
  },
  {
   "cell_type": "markdown",
   "id": "charming-shelter",
   "metadata": {},
   "source": [
    "where p0, p1, p2 are global parameters (we will define them later) representing $\\phi(0)$, $L$ and the exponent. $n$ is the layer number that for our brush layer runs from 2 to 21. So the expression $(p1/20)*(n-1.5)$ gives the $z$ distance of each slice from the substrate. So now we insert the slices of the brush in the model _list_ using a _for loop_."
   ]
  },
  {
   "cell_type": "code",
   "execution_count": null,
   "id": "boring-mozambique",
   "metadata": {},
   "outputs": [],
   "source": [
    "for i in range(20): \n",
    "\tsystem[0].insert(2,[ 1.41e-6, 0.0,'p1/20', 'p1/40', expr, 'layer'])"
   ]
  },
  {
   "cell_type": "markdown",
   "id": "naval-mounting",
   "metadata": {},
   "source": [
    "Note that we insert in system[0] since counting in python starts from zero. We start insering in position 2 since in position 1 we have the already defined thin water layer. All slices have the same sld, same thickness and we also apply a roughness (half slice thickness) to smooth the profile. The volume fraction profile is set according to the above defined symbolic expression."
   ]
  },
  {
   "cell_type": "markdown",
   "id": "proved-princess",
   "metadata": {},
   "source": [
    "Now we may define the global parameters. Note that the global parameters can be of type uniform or normal. For a uniform parameter we assume that the parameter is uniformly distributed in the given min/max bounds. For a normal parameter we assume that the parameter is normally distributed with the defined mean and standard deviation."
   ]
  },
  {
   "cell_type": "code",
   "execution_count": null,
   "id": "pacific-anderson",
   "metadata": {},
   "outputs": [],
   "source": [
    "global_param = [\n",
    "    # param  min  max  description  type='uniform'\n",
    "    # param  mean  sd  description  type='normal'\n",
    "\t['p0', 0.02, 0.20, 'phi0','uniform'],\n",
    "\t['p1', 100, 700, 'brush_length','uniform'],\n",
    "\t['p2', 1, 4, 'exponent','uniform'],\n",
    "\t['p3', 5, 2, 'water thickness','normal'],\n",
    "\t]"
   ]
  },
  {
   "cell_type": "markdown",
   "id": "furnished-texture",
   "metadata": {},
   "source": [
    "We have no multi-parameters or constraints to declare"
   ]
  },
  {
   "cell_type": "code",
   "execution_count": null,
   "id": "regulated-border",
   "metadata": {},
   "outputs": [],
   "source": [
    "multi_param = [] # no multi-parameters\n",
    "constraints = [] # no constraints"
   ]
  },
  {
   "cell_type": "markdown",
   "id": "liked-department",
   "metadata": {},
   "source": [
    "we also define the instrumental parameters. Background and scale are set as fixed."
   ]
  },
  {
   "cell_type": "code",
   "execution_count": null,
   "id": "original-affiliate",
   "metadata": {},
   "outputs": [],
   "source": [
    "resolution=[0.06] # dQ/Q=6%\n",
    "background = [[0.0,0.0,'uniform']] #background corrected data\n",
    "scale = [[1.0,1.0,'uniform']] #data correctly scaled"
   ]
  },
  {
   "cell_type": "markdown",
   "id": "shaped-findings",
   "metadata": {},
   "source": [
    "We finally call the _anaklasis.fit_ function and store the results in the _tuple_ _res_. Note that we set _experror=True_ since our input data contain the $dR(Q)$ errors. "
   ]
  },
  {
   "cell_type": "code",
   "execution_count": null,
   "id": "renewable-baseball",
   "metadata": {},
   "outputs": [],
   "source": [
    "res = anaklasis.fit(project, in_file, units, fit_mode,fit_weight,method,resolution,patches, system,\n",
    "global_param,multi_param, constraints,background,scale,experror=True, plot=True,fast=True)"
   ]
  },
  {
   "cell_type": "markdown",
   "id": "imperial-tennis",
   "metadata": {},
   "source": [
    "_anaklasis_ automatically exports a number of plots for the reflectivity and profiles. A corner plot from the MCMC sampling is exported. If we want to plot manually the volume fraction profile and \"zoom\" close to the region of the variation of the brush profile we may use the results stored in the res _tuple_. "
   ]
  },
  {
   "cell_type": "code",
   "execution_count": null,
   "id": "bronze-india",
   "metadata": {},
   "outputs": [],
   "source": [
    "import matplotlib.pyplot as plt\n",
    "plt.figure()\n",
    "plt.ylim([0.0,0.102])\n",
    "plt.plot(res[2][0][0][:,0],1-res[2][0][0][:,1],color='black')\n",
    "plt.xlabel(r'$z(\\AA)$')\n",
    "plt.ylabel(r'$brush volume fraction$')\n",
    "plt.draw()"
   ]
  },
  {
   "cell_type": "markdown",
   "id": "relevant-leonard",
   "metadata": {},
   "source": [
    "For reference we include a detailed list of the contents of the _res_ _tuple_ in the current example:\n",
    "\n",
    "\tres[0][i][j][Q,R,R*Q^4] <- reflectivity list\n",
    "\tres[1][i][j][z,sld,sd sld] <- sld list\n",
    "\tres[2][i][j][z,solv, sd sld] <- solvent volume fraction list\n",
    "\tres[3][k][mean, sd] <- global_parameter fit list\n",
    "\tres[4][i][l][mean, sd] <- multi_parameter fit list\n",
    "\tres[5][i][mean, sd] <- background fit list\n",
    "\tres[6][i][mean, sd] <- scale fit list\n",
    "\tres[7][i][value] <- chi squared list\n",
    "\n",
    "\twhere i the curve number starting from 0 (in the current example only one curve so 0)\n",
    "\t      j the model number starting from 0 (in the current example only one model so 0)\n",
    "\t      k the global_parameter number starting from 0 (in the current ecample from 0 to 3)\n",
    "\t      l the multi_parameter number starting from 0 (no multi_parameter so list is empty [])"
   ]
  }
 ],
 "metadata": {
  "kernelspec": {
   "display_name": "Python 3",
   "language": "python",
   "name": "python3"
  },
  "language_info": {
   "codemirror_mode": {
    "name": "ipython",
    "version": 3
   },
   "file_extension": ".py",
   "mimetype": "text/x-python",
   "name": "python",
   "nbconvert_exporter": "python",
   "pygments_lexer": "ipython3",
   "version": "3.9.1"
  }
 },
 "nbformat": 4,
 "nbformat_minor": 5
}
