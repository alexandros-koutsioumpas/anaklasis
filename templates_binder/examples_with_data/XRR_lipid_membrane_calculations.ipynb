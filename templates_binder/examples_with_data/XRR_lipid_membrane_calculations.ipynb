{
 "cells": [
  {
   "cell_type": "markdown",
   "id": "smaller-electricity",
   "metadata": {},
   "source": [
    "## XRR of supported lipid membrane at the water/Si interface\n",
    "\n",
    "Let's consider an XRR dataset of a DPPC supported bilayer at the water/Si interface. We will build a model for the membrane and check the effect of the membrane thickness on calculated reflectivity."
   ]
  },
  {
   "cell_type": "markdown",
   "id": "abroad-parking",
   "metadata": {},
   "source": [
    "We model the interface as H2O / outer lipid heads/ tails/ inner lipid heads/ thin water layer/ SiO2 / Si."
   ]
  },
  {
   "cell_type": "code",
   "execution_count": null,
   "id": "mathematical-melissa",
   "metadata": {},
   "outputs": [],
   "source": [
    "from anaklasis import ref\n",
    "\n",
    "project='none' # with this project name no file output will be performed\n",
    "\n",
    "# Create model list\n",
    "model=[\n",
    "\t#  Re_sld  Im_sld   thk rough solv description\n",
    "\t[ 9.41e-6, 0.00e-6,  0 , 2.0, 1.0, 'H2O'],\n",
    "\t[ 14.4e-6, 0.00e-6, 10,  2.0, 0.4, 'outer_heads'],\n",
    "\t[ 8.40e-6, 0.00e-6, 30 , 2.0, 0.0, 'tails'],\n",
    "\t[ 14.4e-6, 0.00e-6, 10,  2.0, 0.3, 'inner_heads'],\n",
    "\t[ 9.41e-6, 0.00e-6,  5 , 2.0, 1.0, 'thin_H2O_layer'],\n",
    "\t[ 19.5e-6, 0.00e-6, 10 , 2.0, 0.0, 'SiO2'],\n",
    "\t[ 18.5e-6, 0.00e-6,  0 , 0.0, 0.0, 'Si'],\n",
    "\t]\n",
    "\n",
    "# We have a single patch(model) with full coverage\n",
    "patches=[1.0]\n",
    "system=[model]\n",
    "\n",
    "global_param = [] # no parameters to define\n",
    "\n",
    "resolution=[0.001]\n",
    "background = [1.0e-9]\n",
    "scale = [1.0]\n",
    "qmax = [0.7]"
   ]
  },
  {
   "cell_type": "markdown",
   "id": "according-bleeding",
   "metadata": {},
   "source": [
    "We call _ref.calculate_ without plotting and store results in the _res1_ _dictionary_."
   ]
  },
  {
   "cell_type": "code",
   "execution_count": null,
   "id": "empirical-butter",
   "metadata": {},
   "outputs": [],
   "source": [
    "res1 = ref.calculate(project, resolution, \n",
    "\tpatches, system, global_param, \n",
    "\tbackground, scale, qmax, plot=False)"
   ]
  },
  {
   "cell_type": "markdown",
   "id": "economic-stephen",
   "metadata": {},
   "source": [
    "we perform the calculation again for a thinner membrane (tail thickness 5 Angstrom less)"
   ]
  },
  {
   "cell_type": "code",
   "execution_count": null,
   "id": "presidential-aviation",
   "metadata": {},
   "outputs": [],
   "source": [
    "model=[\n",
    "\t#  Re_sld  Im_sld   thk rough solv description\n",
    "\t[ 9.41e-6, 0.00e-6,  0 , 2.0, 1.0, 'H2O'],\n",
    "\t[ 14.4e-6, 0.00e-6, 10,  2.0, 0.4, 'outer_heads'],\n",
    "\t[ 8.40e-6, 0.00e-6, 25 , 2.0, 0.0, 'tails'],\n",
    "\t[ 14.4e-6, 0.00e-6, 10,  2.0, 0.3, 'inner_heads'],\n",
    "\t[ 9.41e-6, 0.00e-6,  5 , 2.0, 1.0, 'thin_H2O_layer'],\n",
    "\t[ 19.5e-6, 0.00e-6, 10 , 2.0, 0.0, 'SiO2'],\n",
    "\t[ 18.5e-6, 0.00e-6,  0 , 0.0, 0.0, 'Si'],\n",
    "\t]\n",
    "\n",
    "system=[model]"
   ]
  },
  {
   "cell_type": "markdown",
   "id": "organized-wallpaper",
   "metadata": {},
   "source": [
    "We call _ref.calculate_ again without plotting and store results in the _res2_ _dictionary_."
   ]
  },
  {
   "cell_type": "code",
   "execution_count": null,
   "id": "measured-evanescence",
   "metadata": {},
   "outputs": [],
   "source": [
    "res2 = ref.calculate(project, resolution, \n",
    "\tpatches, system, global_param, \n",
    "\tbackground, scale, qmax, plot=False)"
   ]
  },
  {
   "cell_type": "markdown",
   "id": "continuous-thesaurus",
   "metadata": {},
   "source": [
    "we then plot the calculated reflectivity curves stored in the _res_ _dictionaries_ using the appropriate 'key'."
   ]
  },
  {
   "cell_type": "code",
   "execution_count": null,
   "id": "common-wrong",
   "metadata": {},
   "outputs": [],
   "source": [
    "import matplotlib.pyplot as plt\n",
    "plt.figure()\n",
    "plt.plot(res1[(\"reflectivity\")][:,0],res1[(\"reflectivity\")][:,1],color='red')\n",
    "plt.plot(res2[(\"reflectivity\")][:,0],res2[(\"reflectivity\")][:,1],color='blue')\n",
    "plt.yscale('log')\n",
    "plt.xlabel(r'$Q(\\AA^{-1})$')\n",
    "plt.ylabel(r'$R(Q)$')\n",
    "plt.grid(True)\n",
    "plt.draw()"
   ]
  },
  {
   "cell_type": "markdown",
   "id": "particular-nightmare",
   "metadata": {},
   "source": [
    "we may also plot the sld profiles of the two membrane models."
   ]
  },
  {
   "cell_type": "code",
   "execution_count": null,
   "id": "sixth-netherlands",
   "metadata": {},
   "outputs": [],
   "source": [
    "plt.figure()\n",
    "plt.plot(res1[(\"profile\")][:,0],res1[(\"profile\")][:,1],color='red')\n",
    "plt.plot(res2[(\"profile\")][:,0],res2[(\"profile\")][:,1],color='blue')\n",
    "plt.xlabel(r'$z(\\AA)$')\n",
    "plt.ylabel(r'$sld(10^{-6}\\AA^{-2})$')\n",
    "plt.draw()"
   ]
  }
 ],
 "metadata": {
  "kernelspec": {
   "display_name": "Python 3",
   "language": "python",
   "name": "python3"
  },
  "language_info": {
   "codemirror_mode": {
    "name": "ipython",
    "version": 3
   },
   "file_extension": ".py",
   "mimetype": "text/x-python",
   "name": "python",
   "nbconvert_exporter": "python",
   "pygments_lexer": "ipython3",
   "version": "3.9.1"
  }
 },
 "nbformat": 4,
 "nbformat_minor": 5
}
