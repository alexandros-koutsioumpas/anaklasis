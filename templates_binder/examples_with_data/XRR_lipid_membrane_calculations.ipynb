{
 "cells": [
  {
   "cell_type": "markdown",
   "id": "smaller-electricity",
   "metadata": {},
   "source": [
    "## XRR of supported lipid membrane at the water/Si interface\n",
    "\n",
    "Let's consider an XRR dataset of a DPPC supported bilayer at the water/Si interface. We will build a model for the membrane and check the effect of the membrane thickness on calculated reflectivity."
   ]
  },
  {
   "cell_type": "markdown",
   "id": "abroad-parking",
   "metadata": {},
   "source": [
    "We model the interface as H2O / outer lipid heads/ tails/ inner lipid heads/ thin water layer/ SiO2 / Si."
   ]
  },
  {
   "cell_type": "code",
   "execution_count": 1,
   "id": "mathematical-melissa",
   "metadata": {},
   "outputs": [],
   "source": [
    "from anaklasis import anaklasis\n",
    "\n",
    "project='none' # with this project name no file output will be performed\n",
    "\n",
    "# We have a single uniform layer with full coverage\n",
    "patches=[1.0]\n",
    "\n",
    "# Create empty system list where we then append\n",
    "# the model.\n",
    "system=[]\n",
    "\n",
    "system.append([\n",
    "\t#  Re_sld  Im_sld   thk rough solv description\n",
    "\t[ 9.41e-6, 0.00e-6,  0 , 2.0, 1.0, 'H2O'],\n",
    "\t[ 14.4e-6, 0.00e-6, 10,  2.0, 0.4, 'outer_heads'],\n",
    "\t[ 8.40e-6, 0.00e-6, 30 , 2.0, 0.0, 'tails'],\n",
    "\t[ 14.4e-6, 0.00e-6, 10,  2.0, 0.3, 'inner_heads'],\n",
    "\t[ 9.41e-6, 0.00e-6,  5 , 2.0, 1.0, 'thin_H2O_layer'],\n",
    "\t[ 19.5e-6, 0.00e-6, 10 , 2.0, 0.0, 'SiO2'],\n",
    "\t[ 18.5e-6, 0.00e-6,  0 , 0.0, 0.0, 'Si'],\n",
    "\t])\n",
    "\n",
    "global_param = []\n",
    "\n",
    "resolution=[0.001]\n",
    "background = [1.0e-9]\n",
    "scale = [1.0]\n",
    "qmax = [0.7]"
   ]
  },
  {
   "cell_type": "markdown",
   "id": "according-bleeding",
   "metadata": {},
   "source": [
    "We call _anaklasis.calculate_ without plotting and store results in the _res1_ _tuple_."
   ]
  },
  {
   "cell_type": "code",
   "execution_count": 2,
   "id": "empirical-butter",
   "metadata": {},
   "outputs": [
    {
     "name": "stdout",
     "output_type": "stream",
     "text": [
      "--------------------------------------------------------------------\n",
      "Program ANAKLASIS - Calculation Module for X-ray/Neutron reflection \n",
      "version 1.2, February 2021\n",
      "developed by Dr. Alexandros Koutsioumpas. JCNS @ MLZ\n",
      "for bugs and requests contact: a.koutsioumpas[at]fz-juelich.de\n",
      "--------------------------------------------------------------------\n",
      "\n",
      "\n",
      "Instrumental Resolution, dQ/Q: 0.001\n",
      "--------------------------------------------------------------------\n",
      "H2O real sld (10^-6 A^-2)      = 9.41 \n",
      "H2O imaginary sld (10^-6 A^-2) = 0.00 \n",
      "H2O thickness (A)              = 0.00 \n",
      "H2O/outer_heads roughness (A) = 2.00 \n",
      "H2O solvent volume fraction    = 1.00 \n",
      "--------------------------------------------------------------------\n",
      "outer_heads real sld (10^-6 A^-2)      = 14.40 \n",
      "outer_heads imaginary sld (10^-6 A^-2) = 0.00 \n",
      "outer_heads thickness (A)              = 10.00 \n",
      "outer_heads/tails roughness (A) = 2.00 \n",
      "outer_heads solvent volume fraction    = 0.40 \n",
      "--------------------------------------------------------------------\n",
      "tails real sld (10^-6 A^-2)      = 8.40 \n",
      "tails imaginary sld (10^-6 A^-2) = 0.00 \n",
      "tails thickness (A)              = 30.00 \n",
      "tails/inner_heads roughness (A) = 2.00 \n",
      "tails solvent volume fraction    = 0.00 \n",
      "--------------------------------------------------------------------\n",
      "inner_heads real sld (10^-6 A^-2)      = 14.40 \n",
      "inner_heads imaginary sld (10^-6 A^-2) = 0.00 \n",
      "inner_heads thickness (A)              = 10.00 \n",
      "inner_heads/thin_H2O_layer roughness (A) = 2.00 \n",
      "inner_heads solvent volume fraction    = 0.30 \n",
      "--------------------------------------------------------------------\n",
      "thin_H2O_layer real sld (10^-6 A^-2)      = 9.41 \n",
      "thin_H2O_layer imaginary sld (10^-6 A^-2) = 0.00 \n",
      "thin_H2O_layer thickness (A)              = 5.00 \n",
      "thin_H2O_layer/SiO2 roughness (A) = 2.00 \n",
      "thin_H2O_layer solvent volume fraction    = 1.00 \n",
      "--------------------------------------------------------------------\n",
      "SiO2 real sld (10^-6 A^-2)      = 19.50 \n",
      "SiO2 imaginary sld (10^-6 A^-2) = 0.00 \n",
      "SiO2 thickness (A)              = 10.00 \n",
      "SiO2/Si roughness (A) = 2.00 \n",
      "SiO2 solvent volume fraction    = 0.00 \n",
      "--------------------------------------------------------------------\n",
      "Si real sld (10^-6 A^-2)      = 18.50 \n",
      "Si imaginary sld (10^-6 A^-2) = 0.00 \n",
      "Si solvent volume fraction    = 0.00 \n",
      "--------------------------------------------------------------------\n",
      " \n",
      "\n",
      "Background:  = 1.00e-09\n",
      "Scale:  = 1.00e+00\n",
      "\n",
      "\n",
      "Parameters:\n",
      "\n",
      "Library versions used for the calculations:\n",
      "numpy: 1.19.4\n",
      "scipy: 1.5.4\n",
      "numdifftools: 0.9.39\n",
      "sympy: 1.7.1\n"
     ]
    }
   ],
   "source": [
    "res1 = anaklasis.calculate(project, resolution, \n",
    "\tpatches, system, global_param, \n",
    "\tbackground, scale, qmax, plot=False)"
   ]
  },
  {
   "cell_type": "markdown",
   "id": "economic-stephen",
   "metadata": {},
   "source": [
    "we perform the calculation again for a thinner membrane (tail thickness 5 Angstrom less)"
   ]
  },
  {
   "cell_type": "code",
   "execution_count": 3,
   "id": "presidential-aviation",
   "metadata": {},
   "outputs": [],
   "source": [
    "# Create empty system list where we then append\n",
    "# the model.\n",
    "system=[]\n",
    "\n",
    "system.append([\n",
    "\t#  Re_sld  Im_sld   thk rough solv description\n",
    "\t[ 9.41e-6, 0.00e-6,  0 , 2.0, 1.0, 'H2O'],\n",
    "\t[ 14.4e-6, 0.00e-6, 10,  2.0, 0.4, 'outer_heads'],\n",
    "\t[ 8.40e-6, 0.00e-6, 25 , 2.0, 0.0, 'tails'],\n",
    "\t[ 14.4e-6, 0.00e-6, 10,  2.0, 0.3, 'inner_heads'],\n",
    "\t[ 9.41e-6, 0.00e-6,  5 , 2.0, 1.0, 'thin_H2O_layer'],\n",
    "\t[ 19.5e-6, 0.00e-6, 10 , 2.0, 0.0, 'SiO2'],\n",
    "\t[ 18.5e-6, 0.00e-6,  0 , 0.0, 0.0, 'Si'],\n",
    "\t])"
   ]
  },
  {
   "cell_type": "markdown",
   "id": "organized-wallpaper",
   "metadata": {},
   "source": [
    "We call _anaklasis.calculate_ again without plotting and store results in the _res2_ _tuple_."
   ]
  },
  {
   "cell_type": "code",
   "execution_count": 4,
   "id": "measured-evanescence",
   "metadata": {},
   "outputs": [
    {
     "name": "stdout",
     "output_type": "stream",
     "text": [
      "--------------------------------------------------------------------\n",
      "Program ANAKLASIS - Calculation Module for X-ray/Neutron reflection \n",
      "version 1.2, February 2021\n",
      "developed by Dr. Alexandros Koutsioumpas. JCNS @ MLZ\n",
      "for bugs and requests contact: a.koutsioumpas[at]fz-juelich.de\n",
      "--------------------------------------------------------------------\n",
      "\n",
      "\n",
      "Instrumental Resolution, dQ/Q: 0.001\n",
      "--------------------------------------------------------------------\n",
      "H2O real sld (10^-6 A^-2)      = 9.41 \n",
      "H2O imaginary sld (10^-6 A^-2) = 0.00 \n",
      "H2O thickness (A)              = 0.00 \n",
      "H2O/outer_heads roughness (A) = 2.00 \n",
      "H2O solvent volume fraction    = 1.00 \n",
      "--------------------------------------------------------------------\n",
      "outer_heads real sld (10^-6 A^-2)      = 14.40 \n",
      "outer_heads imaginary sld (10^-6 A^-2) = 0.00 \n",
      "outer_heads thickness (A)              = 10.00 \n",
      "outer_heads/tails roughness (A) = 2.00 \n",
      "outer_heads solvent volume fraction    = 0.40 \n",
      "--------------------------------------------------------------------\n",
      "tails real sld (10^-6 A^-2)      = 8.40 \n",
      "tails imaginary sld (10^-6 A^-2) = 0.00 \n",
      "tails thickness (A)              = 25.00 \n",
      "tails/inner_heads roughness (A) = 2.00 \n",
      "tails solvent volume fraction    = 0.00 \n",
      "--------------------------------------------------------------------\n",
      "inner_heads real sld (10^-6 A^-2)      = 14.40 \n",
      "inner_heads imaginary sld (10^-6 A^-2) = 0.00 \n",
      "inner_heads thickness (A)              = 10.00 \n",
      "inner_heads/thin_H2O_layer roughness (A) = 2.00 \n",
      "inner_heads solvent volume fraction    = 0.30 \n",
      "--------------------------------------------------------------------\n",
      "thin_H2O_layer real sld (10^-6 A^-2)      = 9.41 \n",
      "thin_H2O_layer imaginary sld (10^-6 A^-2) = 0.00 \n",
      "thin_H2O_layer thickness (A)              = 5.00 \n",
      "thin_H2O_layer/SiO2 roughness (A) = 2.00 \n",
      "thin_H2O_layer solvent volume fraction    = 1.00 \n",
      "--------------------------------------------------------------------\n",
      "SiO2 real sld (10^-6 A^-2)      = 19.50 \n",
      "SiO2 imaginary sld (10^-6 A^-2) = 0.00 \n",
      "SiO2 thickness (A)              = 10.00 \n",
      "SiO2/Si roughness (A) = 2.00 \n",
      "SiO2 solvent volume fraction    = 0.00 \n",
      "--------------------------------------------------------------------\n",
      "Si real sld (10^-6 A^-2)      = 18.50 \n",
      "Si imaginary sld (10^-6 A^-2) = 0.00 \n",
      "Si solvent volume fraction    = 0.00 \n",
      "--------------------------------------------------------------------\n",
      " \n",
      "\n",
      "Background:  = 1.00e-09\n",
      "Scale:  = 1.00e+00\n",
      "\n",
      "\n",
      "Parameters:\n",
      "\n",
      "Library versions used for the calculations:\n",
      "numpy: 1.19.4\n",
      "scipy: 1.5.4\n",
      "numdifftools: 0.9.39\n",
      "sympy: 1.7.1\n"
     ]
    }
   ],
   "source": [
    "res2 = anaklasis.calculate(project, resolution, \n",
    "\tpatches, system, global_param, \n",
    "\tbackground, scale, qmax, plot=False)"
   ]
  },
  {
   "cell_type": "markdown",
   "id": "continuous-thesaurus",
   "metadata": {},
   "source": [
    "we then plot the calculated reflectivity curves stored in the first list in the _res_ _tuples_."
   ]
  },
  {
   "cell_type": "code",
   "execution_count": 5,
   "id": "common-wrong",
   "metadata": {},
   "outputs": [
    {
     "data": {
      "image/png": "[encoded data removed]",
      "text/plain": [
       "<Figure size 432x288 with 1 Axes>"
      ]
     },
     "metadata": {
      "needs_background": "light"
     },
     "output_type": "display_data"
    }
   ],
   "source": [
    "import matplotlib.pyplot as plt\n",
    "plt.figure()\n",
    "plt.plot(res1[0][:,0],res1[0][:,1],color='red')\n",
    "plt.plot(res2[0][:,0],res2[0][:,1],color='blue')\n",
    "plt.yscale('log')\n",
    "plt.xlabel(r'$Q(\\AA^{-1})$')\n",
    "plt.ylabel(r'$R(Q)$')\n",
    "plt.grid(True)\n",
    "plt.draw()"
   ]
  },
  {
   "cell_type": "markdown",
   "id": "particular-nightmare",
   "metadata": {},
   "source": [
    "we may also plot the sld profiles of the two membrane models."
   ]
  },
  {
   "cell_type": "code",
   "execution_count": 6,
   "id": "sixth-netherlands",
   "metadata": {},
   "outputs": [
    {
     "data": {
      "image/png": "[encoded data removed]",
      "text/plain": [
       "<Figure size 432x288 with 1 Axes>"
      ]
     },
     "metadata": {
      "needs_background": "light"
     },
     "output_type": "display_data"
    }
   ],
   "source": [
    "plt.figure()\n",
    "plt.plot(res1[1][0][:,0],res1[1][0][:,1],color='red')\n",
    "plt.plot(res2[1][0][:,0],res2[1][0][:,1],color='blue')\n",
    "plt.xlabel(r'$z(\\AA)$')\n",
    "plt.ylabel(r'$sld(10^{-6}\\AA^{-2})$')\n",
    "plt.draw()"
   ]
  }
 ],
 "metadata": {
  "kernelspec": {
   "display_name": "Python 3",
   "language": "python",
   "name": "python3"
  },
  "language_info": {
   "codemirror_mode": {
    "name": "ipython",
    "version": 3
   },
   "file_extension": ".py",
   "mimetype": "text/x-python",
   "name": "python",
   "nbconvert_exporter": "python",
   "pygments_lexer": "ipython3",
   "version": "3.9.1"
  }
 },
 "nbformat": 4,
 "nbformat_minor": 5
}
