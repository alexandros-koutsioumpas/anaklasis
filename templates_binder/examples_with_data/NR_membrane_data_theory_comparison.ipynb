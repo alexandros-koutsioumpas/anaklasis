{
 "cells": [
  {
   "cell_type": "markdown",
   "id": "formal-scout",
   "metadata": {},
   "source": [
    "## Data/Theory compasion for NR of supported lipid membrane\n",
    "\n",
    "Let's consider a single contrast dataset (D$_{2}$O) of a supported bilayer at the Si / water interface acquired at the MARIA neutron reflectometer (MLZ). We will build a model for the membrane and check the effect of the membrane thickness on the agreement with the experimental data."
   ]
  },
  {
   "cell_type": "markdown",
   "id": "perceived-quarter",
   "metadata": {},
   "source": [
    "First let's import _anaklasis.ref_"
   ]
  },
  {
   "cell_type": "code",
   "execution_count": null,
   "id": "black-physiology",
   "metadata": {},
   "outputs": [],
   "source": [
    "from anaklasis import ref"
   ]
  },
  {
   "cell_type": "markdown",
   "id": "substantial-estonia",
   "metadata": {},
   "source": [
    "We name the project as 'membrane_ref_data_comparison'. All results will be exported in a folder with this name. Then we import the experimental curve and we set input units to Angstrom."
   ]
  },
  {
   "cell_type": "code",
   "execution_count": null,
   "id": "bored-screen",
   "metadata": {},
   "outputs": [],
   "source": [
    "project='membrane_ref_data_comparison'\n",
    "input_file = 'membrane.dat' # input curve\n",
    "units = ['A'] # Q units in Angstrom"
   ]
  },
  {
   "cell_type": "markdown",
   "id": "interracial-berry",
   "metadata": {},
   "source": [
    "We model the interface as Si/ SiO$_{2}$ / thin water layer / lipid heads / lipid tails / lipid heads / water (solvent), where solvent may partially penetrate in each lipid layer. We also set the membrane roughness as a global parameter."
   ]
  },
  {
   "cell_type": "code",
   "execution_count": null,
   "id": "hindu-founder",
   "metadata": {},
   "outputs": [],
   "source": [
    "model = [\n",
    "\t# Re_sld  Im_sld thk  rough  solv  description \n",
    "\t[  2.07e-6, 0.0, 0,    0.89, 0.0,  'Si'],\n",
    "\t[  3.5e-6,  0.0, 12.6, 3.82, 0.0,  'SiO2'],\n",
    "\t[  6.15e-6, 0.0, 4.4,  'p0', 1.0,  'D2O'],\n",
    "\t[  1.7e-6,  0.0, 10.6, 'p0', 0.24, 'heads'],\n",
    "\t[ -0.4e-6,  0.0, 25.0, 'p0', 0.03, 'tails'],\n",
    "\t[  1.7e-6,  0.0, 9.0,  'p0', 0.47, 'heads'],\n",
    "\t[  6.15e-6, 0.0,  0,   0.0,  1.0,  'D2O'],\n",
    "\t]\n",
    "\n",
    "patches=[1.0] # single patch 100% coverage\n",
    "system=[model] # single model(patch) system\n",
    "\n",
    "global_param = [\n",
    "\t['p0', 2.67, 'roughness'],\n",
    "\t]"
   ]
  },
  {
   "cell_type": "markdown",
   "id": "advance-notebook",
   "metadata": {},
   "source": [
    "we also define the instrumental parameters."
   ]
  },
  {
   "cell_type": "code",
   "execution_count": null,
   "id": "delayed-samoa",
   "metadata": {},
   "outputs": [],
   "source": [
    "resolution=[0.1] # dQ/Q=10%\n",
    "background = [1.9e-7] # instrumental background\n",
    "scale = [0.978] # small scale correction\n",
    "qmax = [0.25] "
   ]
  },
  {
   "cell_type": "markdown",
   "id": "indoor-scotland",
   "metadata": {},
   "source": [
    "we finally call the fit.compare_ function"
   ]
  },
  {
   "cell_type": "code",
   "execution_count": null,
   "id": "growing-richmond",
   "metadata": {},
   "outputs": [],
   "source": [
    "res = ref.compare(project, input_file, units, resolution, \n",
    "\tpatches, system, global_param,background, scale, qmax, \n",
    "\texperror=True, plot=True)"
   ]
  },
  {
   "cell_type": "markdown",
   "id": "coupled-retirement",
   "metadata": {},
   "source": [
    "We observe that the membrane thickness in the model is a bit low. The characteristic fringe of the theoretical curve is at higher $Q$ than the one in the experimental curve.. Let's redefine the model with a thicker lipid tail layer."
   ]
  },
  {
   "cell_type": "code",
   "execution_count": null,
   "id": "varied-instruction",
   "metadata": {},
   "outputs": [],
   "source": [
    "model = [\n",
    "\t# Re_sld  Im_sld thk  rough  solv  description \n",
    "\t[  2.07e-6, 0.0, 0,    0.89, 0.0,  'Si'],\n",
    "\t[  3.5e-6,  0.0, 12.6, 3.82, 0.0,  'SiO2'],\n",
    "\t[  6.15e-6, 0.0, 4.4,  'p0', 1.0,  'D2O'],\n",
    "\t[  1.7e-6,  0.0, 10.6, 'p0', 0.24, 'heads'],\n",
    "\t[ -0.4e-6,  0.0, 29.2, 'p0', 0.03, 'tails'],\n",
    "\t[  1.7e-6,  0.0, 9.0,  'p0', 0.47, 'heads'],\n",
    "\t[  6.15e-6, 0.0,  0,   0.0,  1.0,  'D2O'],\n",
    "\t]\n",
    "\n",
    "system=[model]"
   ]
  },
  {
   "cell_type": "markdown",
   "id": "joined-youth",
   "metadata": {},
   "source": [
    "and we call again the _fit.compare_ function"
   ]
  },
  {
   "cell_type": "code",
   "execution_count": null,
   "id": "found-stretch",
   "metadata": {},
   "outputs": [],
   "source": [
    "res = ref.compare(project, input_file, units, resolution, \n",
    "\tpatches, system, global_param,background, scale, qmax, \n",
    "\texperror=True, plot=True)"
   ]
  },
  {
   "cell_type": "markdown",
   "id": "prescribed-division",
   "metadata": {},
   "source": [
    "We see that now theory and data are in much better agreement."
   ]
  }
 ],
 "metadata": {
  "kernelspec": {
   "display_name": "Python 3",
   "language": "python",
   "name": "python3"
  },
  "language_info": {
   "codemirror_mode": {
    "name": "ipython",
    "version": 3
   },
   "file_extension": ".py",
   "mimetype": "text/x-python",
   "name": "python",
   "nbconvert_exporter": "python",
   "pygments_lexer": "ipython3",
   "version": "3.9.1"
  }
 },
 "nbformat": 4,
 "nbformat_minor": 5
}
