{
 "cells": [
  {
   "cell_type": "markdown",
   "id": "seven-patrol",
   "metadata": {},
   "source": [
    "## X-ray reflectivity calculations (2 layers)\n",
    "\n",
    "Let us suppose that we want to calculate the expected x-ray reflectivity for a couple of layers (Fe/Au) on Silicon. We start by importing anaklasis.ref"
   ]
  },
  {
   "cell_type": "code",
   "execution_count": null,
   "id": "human-mount",
   "metadata": {},
   "outputs": [],
   "source": [
    "from anaklasis import ref"
   ]
  },
  {
   "cell_type": "markdown",
   "id": "through-provision",
   "metadata": {},
   "source": [
    "We name the project as _2layers_"
   ]
  },
  {
   "cell_type": "code",
   "execution_count": null,
   "id": "agreed-germany",
   "metadata": {},
   "outputs": [],
   "source": [
    "project='2layers'"
   ]
  },
  {
   "cell_type": "markdown",
   "id": "passing-wheel",
   "metadata": {},
   "source": [
    "We define the model _list_ containing the data for the semi-infine fronting layer #0 (air), semi-infine backing layer #3 (Si) and the two layers Fe and Au. Note that Real and Imaginary sld values are in 1/Angstrom^2 and thickness/roughness values in Angstrom."
   ]
  },
  {
   "cell_type": "code",
   "execution_count": null,
   "id": "graphic-silence",
   "metadata": {},
   "outputs": [],
   "source": [
    "model=[\n",
    "\t#  Re_sld  Im_sld   thk rough solv description\n",
    "\t[ 0.00e-5, 0.00e-7,  0 , 3.0, 0.0, 'air'],\n",
    "\t[ 12.4e-5, 1.28e-5, 50,  3.0, 0.0, 'Au'],\n",
    "\t[ 5.94e-5, 7.69e-6, 40 , 3.0, 0.0, 'Fe'],\n",
    "\t[ 2.00e-5, 4.58e-7,  0 , 0.0, 0.0, 'Si'],\n",
    "\t]"
   ]
  },
  {
   "cell_type": "markdown",
   "id": "amazing-documentary",
   "metadata": {},
   "source": [
    "Since we have a single patch(model) that completery covers the substrate, we define the _system_ and _patch_ _lists_ as"
   ]
  },
  {
   "cell_type": "code",
   "execution_count": null,
   "id": "postal-classics",
   "metadata": {},
   "outputs": [],
   "source": [
    "patches=[1.0]\n",
    "system=[model]"
   ]
  },
  {
   "cell_type": "markdown",
   "id": "heavy-fruit",
   "metadata": {},
   "source": [
    "No global parameters are needed in this example, so the related _list_ is empty."
   ]
  },
  {
   "cell_type": "code",
   "execution_count": null,
   "id": "double-issue",
   "metadata": {},
   "outputs": [],
   "source": [
    "global_param = []"
   ]
  },
  {
   "cell_type": "markdown",
   "id": "technical-material",
   "metadata": {},
   "source": [
    "We now fill the instrumental parameters in the relevant _lists_."
   ]
  },
  {
   "cell_type": "code",
   "execution_count": null,
   "id": "nervous-peace",
   "metadata": {},
   "outputs": [],
   "source": [
    "resolution=[0.001]\n",
    "background = [1.0e-9]\n",
    "scale = [1.0]\n",
    "qmax = [0.7]"
   ]
  },
  {
   "cell_type": "markdown",
   "id": "dried-boards",
   "metadata": {},
   "source": [
    "and finally we call the _ref.calculate_ function, and we store the results (reflectivity, sld profile, solvent volume fraction profile) in the dictionary _results_"
   ]
  },
  {
   "cell_type": "code",
   "execution_count": null,
   "id": "deluxe-basket",
   "metadata": {},
   "outputs": [],
   "source": [
    "results = ref.calculate(project, resolution, \n",
    "\tpatches, system, global_param, \n",
    "\tbackground, scale, qmax, plot=True)"
   ]
  },
  {
   "cell_type": "markdown",
   "id": "painted-agriculture",
   "metadata": {},
   "source": [
    "So we get a summary of the system's parameters and a graphical output of the reflectivity and related profiles. If we want we may also use the _results_ _dictionary_ to further inspect fot example the calculated reflectivity."
   ]
  },
  {
   "cell_type": "code",
   "execution_count": null,
   "id": "noticed-plastic",
   "metadata": {},
   "outputs": [],
   "source": [
    "print(results[(\"reflectivity\")])"
   ]
  },
  {
   "cell_type": "markdown",
   "id": "postal-variance",
   "metadata": {},
   "source": [
    "or check the calculated sld profile"
   ]
  },
  {
   "cell_type": "code",
   "execution_count": null,
   "id": "animal-anxiety",
   "metadata": {
    "scrolled": true
   },
   "outputs": [],
   "source": [
    "print(results[(\"profile\")])"
   ]
  }
 ],
 "metadata": {
  "kernelspec": {
   "display_name": "Python 3",
   "language": "python",
   "name": "python3"
  },
  "language_info": {
   "codemirror_mode": {
    "name": "ipython",
    "version": 3
   },
   "file_extension": ".py",
   "mimetype": "text/x-python",
   "name": "python",
   "nbconvert_exporter": "python",
   "pygments_lexer": "ipython3",
   "version": "3.9.1"
  }
 },
 "nbformat": 4,
 "nbformat_minor": 5
}
