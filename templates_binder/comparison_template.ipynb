{
 "cells": [
  {
   "cell_type": "markdown",
   "id": "formal-scout",
   "metadata": {},
   "source": [
    "## Data/Theory comparison\n",
    "\n",
    "This _jupyter notebook_ template gives you the ability to perform x-ray or neutron reflectivity calculations with _anaklasis_ and compare them with experimental data. Edit the interfacial model below according to your needs. From the _file_ -> _open_ menu of the notebook you can go to the directory where this notebook is stored and upload experimental data files that you can import in the code below."
   ]
  },
  {
   "cell_type": "markdown",
   "id": "perceived-quarter",
   "metadata": {},
   "source": [
    "First let's import _anaklasis_"
   ]
  },
  {
   "cell_type": "code",
   "execution_count": null,
   "id": "black-physiology",
   "metadata": {},
   "outputs": [],
   "source": [
    "from anaklasis import ref"
   ]
  },
  {
   "cell_type": "markdown",
   "id": "substantial-estonia",
   "metadata": {},
   "source": [
    "We name the project as 'test'. All results will be exported in a folder with this name. Then we import the experimental curve and we set input units to Angstrom. You need to specify the filename (delete your_file.dat) of the uploaded file."
   ]
  },
  {
   "cell_type": "code",
   "execution_count": null,
   "id": "bored-screen",
   "metadata": {},
   "outputs": [],
   "source": [
    "project='test'\n",
    "input_file = 'your_file.dat' # input curve\n",
    "units = ['A'] # Q units in Angstrom"
   ]
  },
  {
   "cell_type": "markdown",
   "id": "productive-company",
   "metadata": {},
   "source": [
    "We usually have a single laterally uniform layer on the substrate so a single defined model (patch) of 100% coverage"
   ]
  },
  {
   "cell_type": "code",
   "execution_count": null,
   "id": "beginning-psychiatry",
   "metadata": {},
   "outputs": [],
   "source": [
    "patches=[1.0] # single patch 100% covergae"
   ]
  },
  {
   "cell_type": "markdown",
   "id": "interracial-berry",
   "metadata": {},
   "source": [
    "As a placeholder we define below a simple air/SiO2/Si interface with the roughness defined as a global_parameter. You will need to change the _model_ _list_ according to your modelling needs."
   ]
  },
  {
   "cell_type": "code",
   "execution_count": null,
   "id": "hindu-founder",
   "metadata": {},
   "outputs": [],
   "source": [
    "model=[\n",
    "\t#  Re_sld  Im_sld   thk rough solv description\n",
    "\t[ 0.00e-5, 0.00e-6,  0 , 'p0', 0.0, 'air'],\n",
    "\t[ 3.47e-6, 0.00e-6, 10 , 'p0', 0.0, 'SiO2'],\n",
    "\t[ 2.07e-6, 0.00e-6,  0 , 0.0, 0.0, 'Si'],\n",
    "\t]\n",
    "\n",
    "system=[model] #since we have a single patch(model)\n",
    "\n",
    "global_param = [\n",
    "\t['p0', 3.00, 'roughness'],\n",
    "\t]"
   ]
  },
  {
   "cell_type": "markdown",
   "id": "advance-notebook",
   "metadata": {},
   "source": [
    "we also define the instrumental parameters."
   ]
  },
  {
   "cell_type": "code",
   "execution_count": null,
   "id": "delayed-samoa",
   "metadata": {},
   "outputs": [],
   "source": [
    "resolution=[0.1] # dQ/Q=10%\n",
    "background = [1.0e-7] # instrumental background\n",
    "scale = [1.0] # small scale correction\n",
    "qmax = [0.25] "
   ]
  },
  {
   "cell_type": "markdown",
   "id": "indoor-scotland",
   "metadata": {},
   "source": [
    "we finally call the _ref.compare_ function"
   ]
  },
  {
   "cell_type": "code",
   "execution_count": null,
   "id": "growing-richmond",
   "metadata": {},
   "outputs": [],
   "source": [
    "res = ref.compare(project, input_file, units, resolution, \n",
    "\tpatches, system, global_param,background, scale, qmax, \n",
    "\texperror=True, plot=True)"
   ]
  }
 ],
 "metadata": {
  "kernelspec": {
   "display_name": "Python 3",
   "language": "python",
   "name": "python3"
  },
  "language_info": {
   "codemirror_mode": {
    "name": "ipython",
    "version": 3
   },
   "file_extension": ".py",
   "mimetype": "text/x-python",
   "name": "python",
   "nbconvert_exporter": "python",
   "pygments_lexer": "ipython3",
   "version": "3.9.1"
  }
 },
 "nbformat": 4,
 "nbformat_minor": 5
}
