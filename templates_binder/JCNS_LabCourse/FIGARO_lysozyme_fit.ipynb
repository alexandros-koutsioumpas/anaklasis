{
 "cells": [
  {
   "cell_type": "markdown",
   "id": "traditional-intention",
   "metadata": {},
   "source": [
    "# Fit of 1-contrast NR data from adsorbed Lysozyme on Si"
   ]
  },
  {
   "cell_type": "code",
   "execution_count": null,
   "id": "749f8320-238c-4760-ba41-2d5ec17661b0",
   "metadata": {},
   "outputs": [],
   "source": []
  },
  {
   "cell_type": "markdown",
   "id": "supposed-workshop",
   "metadata": {},
   "source": [
    "Let us consider a NR measurement (D$_2$O) from a system of adsorbed Lysozyme protein at the Si/water interface (acquired at pH=7). We can build a simple model where the protein is represented by a single layer. So firstly we may import experimental data, set the fit mode and then proceed with model definition."
   ]
  },
  {
   "cell_type": "code",
   "execution_count": null,
   "id": "advised-meter",
   "metadata": {},
   "outputs": [],
   "source": [
    "from anaklasis import ref\n",
    "\n",
    "# We give a name to the project\n",
    "project='Lyz_fit_1_contrast'\n",
    "\n",
    "# we import the two reflectivity curves acquired at FIGARO reflectometer\n",
    "in_file=['']\n",
    "\n",
    "units=['A'] # all units in Angstrom\n",
    "fit_mode=0 # 0 is for linear, 1 is for log\n",
    "fit_weight=[1] # equal fit weight for both curves\n",
    "\n",
    "method = 'simple' # perform MCMC"
   ]
  },
  {
   "cell_type": "markdown",
   "id": "quiet-membership",
   "metadata": {},
   "source": [
    "Now let us define the model (single uniform patch) Si / SiO2 / protein / water and also the model-parameters."
   ]
  },
  {
   "cell_type": "code",
   "execution_count": null,
   "id": "wrapped-slovenia",
   "metadata": {},
   "outputs": [],
   "source": [
    "model = [\n",
    "\t# Re_sld Im_sld thk rough solv description\n",
    "\t[  2.07e-6, 0.0, 0, 2.0, 0.0, 'Si'],\n",
    "\t[ 3.5e-6, 0.0, 10, 'p0', 0.0, 'SiO2'],\n",
    "\t[ 'p4', 0.0, 'p1', 'p2', 'p3', 'protein'],\n",
    "\t[  'p5', 0.0,  0, 0.0, 1.0, 'bulk'],\n",
    "\t]\n",
    "\n",
    "patches=[1.0]\n",
    "system=[model]\n",
    "\n",
    "global_param = [\n",
    "    # param  min  max  description, for type 'uniform'\n",
    "\t['p0', 3.0, 3.0, 'SiO2_roughness','uniform'],\n",
    "\t['p1', 25.0, 40.0, 'protein_thk','uniform'],\n",
    "\t['p2', 0, 10.0, 'protein_rough','uniform'],\n",
    "\t['p3', 0.0, 1.0, 'protein_solv','uniform'],\n",
    "\t['p4', 3.4e-6, 3.4e-6, 'solv_sld','uniform'],\n",
    "\t['p5', 6.0e-6, 6.35e-6, 'solv_sld','uniform']\n",
    "\t]\n",
    "\n",
    "# No applied constraints\n",
    "constraints = [\n",
    "\t]"
   ]
  },
  {
   "cell_type": "markdown",
   "id": "legal-scholarship",
   "metadata": {},
   "source": [
    "We also set the instrumental parameters"
   ]
  },
  {
   "cell_type": "code",
   "execution_count": null,
   "id": "cubic-williams",
   "metadata": {},
   "outputs": [],
   "source": [
    "resolution=[-1,-1] # pointwise resolution\n",
    "background = [\n",
    "\t[0.0,1.0e-5,'uniform'], # background is left free for both curves\n",
    "\t]\n",
    "scale = [\n",
    "\t[1.0,0.2,'normal'], # curve scale is also a free parameter for all curves\n",
    "\t]"
   ]
  },
  {
   "cell_type": "markdown",
   "id": "amateur-adoption",
   "metadata": {},
   "source": [
    "Finally we call the anaklasis.fit function"
   ]
  },
  {
   "cell_type": "code",
   "execution_count": null,
   "id": "received-remains",
   "metadata": {},
   "outputs": [],
   "source": [
    "res = ref.fit(project,in_file,units,fit_mode,fit_weight,method,resolution,patches,system,global_param\n",
    "\t,multi_param,constraints,background,scale,experror=True,plot=True,fast=True)"
   ]
  },
  {
   "cell_type": "markdown",
   "id": "annual-mills",
   "metadata": {},
   "source": []
  },
  {
   "cell_type": "code",
   "execution_count": null,
   "id": "9bacfb72-d675-4baf-a809-c08538501e7a",
   "metadata": {},
   "outputs": [],
   "source": []
  },
  {
   "cell_type": "code",
   "execution_count": null,
   "id": "0d1dda05-7e6d-424b-87e0-fab2d2263669",
   "metadata": {},
   "outputs": [],
   "source": []
  }
 ],
 "metadata": {
  "kernelspec": {
   "display_name": "Python 3 (ipykernel)",
   "language": "python",
   "name": "python3"
  },
  "language_info": {
   "codemirror_mode": {
    "name": "ipython",
    "version": 3
   },
   "file_extension": ".py",
   "mimetype": "text/x-python",
   "name": "python",
   "nbconvert_exporter": "python",
   "pygments_lexer": "ipython3",
   "version": "3.13.2"
  }
 },
 "nbformat": 4,
 "nbformat_minor": 5
}
