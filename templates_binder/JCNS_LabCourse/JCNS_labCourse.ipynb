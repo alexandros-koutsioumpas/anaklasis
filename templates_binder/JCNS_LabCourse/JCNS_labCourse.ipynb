{
 "cells": [
  {
   "cell_type": "markdown",
   "id": "humanitarian-billy",
   "metadata": {},
   "source": [
    "## JCNS LabCourse example"
   ]
  },
  {
   "cell_type": "markdown",
   "id": "arabic-masters",
   "metadata": {},
   "source": [
    "We use the [anaklasis](https://github.com/alexandros-koutsioumpas/anaklasis) package to fit the data (file *Ni_LabCourse_R(Q).txt*) that contains 2-column data (_Q,R). The data come from a Neutron Reflectivity measurement of an air/Nickel/glass system, acquired at the TREFF instrument."
   ]
  },
  {
   "cell_type": "markdown",
   "id": "express-tunnel",
   "metadata": {},
   "source": [
    "we first import *anaklasis.ref*"
   ]
  },
  {
   "cell_type": "code",
   "execution_count": null,
   "id": "confident-world",
   "metadata": {},
   "outputs": [],
   "source": [
    "from anaklasis import ref"
   ]
  },
  {
   "cell_type": "markdown",
   "id": "vocational-premises",
   "metadata": {},
   "source": [
    "we then name the project, import input data, set _Q_ units in Angstrom (as they are in the input file) and also set the resolution of the instrument."
   ]
  },
  {
   "cell_type": "code",
   "execution_count": null,
   "id": "sexual-master",
   "metadata": {},
   "outputs": [],
   "source": [
    "project='Ni_on_glass'\n",
    "in_file=['Ni_LabCourse_R(Q).txt']\n",
    "units=['A'] # Angstrom units\n",
    "resolution=[0.015] # dQ/Q=1.5%"
   ]
  },
  {
   "cell_type": "markdown",
   "id": "pretty-poetry",
   "metadata": {},
   "source": [
    "we then create our model where we just define a Nickel layer between Air and Glass."
   ]
  },
  {
   "cell_type": "code",
   "execution_count": null,
   "id": "critical-rubber",
   "metadata": {},
   "outputs": [],
   "source": [
    "model = [\n",
    "\t# Re_sld Im_sld thk rough solv description\n",
    "\t[  0.0e-6, 0.0,  0,  'p0', 0.0, 'Air'],\n",
    "\t[  'p1',   0.0, 'p2','p3', 0.0, 'Ni'],\n",
    "\t[  3.5e-6, 0.0,  0,  0.0,  0.0, 'Glass'],\n",
    "\t]"
   ]
  },
  {
   "cell_type": "markdown",
   "id": "postal-childhood",
   "metadata": {},
   "source": [
    "We have a single model in the system covering uniformly the whole substrate (single patch), so"
   ]
  },
  {
   "cell_type": "code",
   "execution_count": null,
   "id": "eastern-slope",
   "metadata": {},
   "outputs": [],
   "source": [
    "system=[model]\n",
    "patches=[1.0]"
   ]
  },
  {
   "cell_type": "markdown",
   "id": "standard-granny",
   "metadata": {},
   "source": [
    "we have entered 4 parameters in total in the model. Let's define their bounds together with their descriptions. Note that we consider that all parameters have a uniform probability to assume a value between the declared bounds."
   ]
  },
  {
   "cell_type": "code",
   "execution_count": null,
   "id": "personal-syndication",
   "metadata": {},
   "outputs": [],
   "source": [
    "global_param = [\n",
    "    # param  min  max  description    type\n",
    "\t['p0', 0, 30, 'Air/Ni_roughness','uniform'],\n",
    "\t['p1', 8e-6, 9.5e-6, 'Ni_sld','uniform'],\n",
    "\t['p2', 0, 1000, 'Ni_thickness','uniform'],\n",
    "\t['p3', 0, 30, 'Ni/Glass_roughness','uniform'],\n",
    "\t]"
   ]
  },
  {
   "cell_type": "markdown",
   "id": "lovely-reference",
   "metadata": {},
   "source": [
    "we have no constraints to declare on the parameters"
   ]
  },
  {
   "cell_type": "code",
   "execution_count": null,
   "id": "discrete-boating",
   "metadata": {},
   "outputs": [],
   "source": [
    "constraints = []"
   ]
  },
  {
   "cell_type": "markdown",
   "id": "hispanic-professor",
   "metadata": {},
   "source": [
    "We have no multi-parameters to declare (they are usually used for multiple contrast refinements), so"
   ]
  },
  {
   "cell_type": "code",
   "execution_count": null,
   "id": "iraqi-timber",
   "metadata": {},
   "outputs": [],
   "source": [
    "multi_param = [] # no multi-parameters"
   ]
  },
  {
   "cell_type": "markdown",
   "id": "adjacent-february",
   "metadata": {},
   "source": [
    "We then leave the scale and the background a bit free to vary during the refinemenet"
   ]
  },
  {
   "cell_type": "code",
   "execution_count": null,
   "id": "median-newsletter",
   "metadata": {},
   "outputs": [],
   "source": [
    "background = [[0.0,5.0e-4,'uniform']] \n",
    "scale = [[0.90,1.10,'uniform']]"
   ]
  },
  {
   "cell_type": "markdown",
   "id": "found-stylus",
   "metadata": {},
   "source": [
    "Then we set the fit details and call the _ref.fit_ function to perform the data refinement"
   ]
  },
  {
   "cell_type": "code",
   "execution_count": null,
   "id": "arbitrary-memory",
   "metadata": {},
   "outputs": [],
   "source": [
    "fit_mode=0 # using FOM1\n",
    "fit_weight=[1] \n",
    "method = 'simple' # Uncertainty estimated through Hessian matrix\n",
    "\n",
    "res = ref.fit(project, in_file, units, fit_mode,\n",
    "fit_weight,method,resolution,patches, system,\n",
    "global_param,multi_param, constraints,\n",
    "background,scale,experror=False)"
   ]
  }
 ],
 "metadata": {
  "kernelspec": {
   "display_name": "Python 3",
   "language": "python",
   "name": "python3"
  },
  "language_info": {
   "codemirror_mode": {
    "name": "ipython",
    "version": 3
   },
   "file_extension": ".py",
   "mimetype": "text/x-python",
   "name": "python",
   "nbconvert_exporter": "python",
   "pygments_lexer": "ipython3",
   "version": "3.9.1"
  }
 },
 "nbformat": 4,
 "nbformat_minor": 5
}
