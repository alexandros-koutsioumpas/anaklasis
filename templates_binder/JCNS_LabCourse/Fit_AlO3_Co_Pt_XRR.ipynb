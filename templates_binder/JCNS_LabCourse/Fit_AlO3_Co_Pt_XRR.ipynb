{
 "cells": [
  {
   "cell_type": "markdown",
   "id": "humanitarian-billy",
   "metadata": {},
   "source": [
    "## JCNS LabCourse example"
   ]
  },
  {
   "cell_type": "markdown",
   "id": "arabic-masters",
   "metadata": {},
   "source": [
    "We use the [anaklasis](https://github.com/alexandros-koutsioumpas/anaklasis) package to fit the X-ray data (file *AlO3_Co_Pt_corrected.dat*) that contains 2-column data (_Q,R). The data come from a XRR measurement of an air/Pt/Co/Al2O3 system, acquired at MLZ, Garching."
   ]
  },
  {
   "cell_type": "markdown",
   "id": "express-tunnel",
   "metadata": {},
   "source": [
    "we first import *anaklasis.ref*"
   ]
  },
  {
   "cell_type": "code",
   "execution_count": null,
   "id": "confident-world",
   "metadata": {},
   "outputs": [],
   "source": [
    "from anaklasis import ref"
   ]
  },
  {
   "cell_type": "markdown",
   "id": "vocational-premises",
   "metadata": {},
   "source": [
    "we then name the project, import input data, set _Q_ units in Angstrom (as they are in the input file) and also set the resolution of the instrument."
   ]
  },
  {
   "cell_type": "code",
   "execution_count": null,
   "id": "sexual-master",
   "metadata": {},
   "outputs": [],
   "source": [
    "project='Co_Pt_XRR'\n",
    "in_file=['AlO3_Co_Pt_corrected.dat']\n",
    "units=['A'] # Angstrom units\n",
    "resolution=[0.001] # dQ/Q"
   ]
  },
  {
   "cell_type": "markdown",
   "id": "pretty-poetry",
   "metadata": {},
   "source": [
    "we then create our model where we just define the two layers between Air and Al2O3."
   ]
  },
  {
   "cell_type": "code",
   "execution_count": null,
   "id": "critical-rubber",
   "metadata": {},
   "outputs": [],
   "source": [
    "model = [\n",
    "\t# Re_sld Im_sld thk rough solv description\n",
    "\t[  0.0e-6, 0.0, 0, 'p1', 0.0, 'air'],\n",
    "\t[ 'p0', 13.55e-6, 'p2', 'p3', 0.0, 'Pt'],\n",
    "\t[ 'p6', 9.06e-6, 'p4', 'p5', 0.0, 'Co'],\n",
    "\t[ 33.4e-6, 0.38e-6,  0, 0.0, 0.0, 'Al2O3'],\n",
    "\t]"
   ]
  },
  {
   "cell_type": "markdown",
   "id": "postal-childhood",
   "metadata": {},
   "source": [
    "We have a single model in the system covering uniformly the whole substrate (single patch), so"
   ]
  },
  {
   "cell_type": "code",
   "execution_count": null,
   "id": "eastern-slope",
   "metadata": {},
   "outputs": [],
   "source": [
    "system=[model]\n",
    "patches=[1.0]"
   ]
  },
  {
   "cell_type": "markdown",
   "id": "standard-granny",
   "metadata": {},
   "source": [
    "we have entered 7 parameters in total in the model. Let's define their bounds together with their descriptions. Note that we consider that all parameters have a uniform probability to assume a value between the declared bounds."
   ]
  },
  {
   "cell_type": "code",
   "execution_count": null,
   "id": "personal-syndication",
   "metadata": {},
   "outputs": [],
   "source": [
    "global_param = [\n",
    "    # param  min  max  description type\n",
    "    ['p0', 137e-6, 137e-6, 'Pt_sld','uniform'],\n",
    "    ['p1', 0, 10, 'air/Pt roughness','uniform'],\n",
    "    ['p2', 10, 100, 'Pt thickness','uniform'],\n",
    "    ['p3', 0, 10, 'Pt/Co roughness','uniform'],\n",
    "    ['p4', 50, 250, 'Co thickness','uniform'],\n",
    "    ['p5', 0, 10, 'Co/Al2O3 roughness','uniform'],\n",
    "    ['p6', 62.6e-6, 62.6e-6, 'Co_sld','uniform'],\n",
    "\t]"
   ]
  },
  {
   "cell_type": "markdown",
   "id": "lovely-reference",
   "metadata": {},
   "source": [
    "we have no constraints to declare on the parameters"
   ]
  },
  {
   "cell_type": "code",
   "execution_count": null,
   "id": "discrete-boating",
   "metadata": {},
   "outputs": [],
   "source": [
    "constraints = []"
   ]
  },
  {
   "cell_type": "markdown",
   "id": "hispanic-professor",
   "metadata": {},
   "source": [
    "We have no multi-parameters to declare (they are usually used for multiple contrast refinements), so"
   ]
  },
  {
   "cell_type": "code",
   "execution_count": null,
   "id": "iraqi-timber",
   "metadata": {},
   "outputs": [],
   "source": [
    "multi_param = [] # no multi-parameters"
   ]
  },
  {
   "cell_type": "markdown",
   "id": "adjacent-february",
   "metadata": {},
   "source": [
    "We then leave the scale and the background a bit free to vary during the refinemenet"
   ]
  },
  {
   "cell_type": "code",
   "execution_count": null,
   "id": "median-newsletter",
   "metadata": {},
   "outputs": [],
   "source": [
    "background = [[0.0,1.0e-4,'uniform']] \n",
    "scale = [[0.90,1.10,'uniform']]"
   ]
  },
  {
   "cell_type": "markdown",
   "id": "found-stylus",
   "metadata": {},
   "source": [
    "Then we set the fit details and call the _ref.fit_ function to perform the data refinement"
   ]
  },
  {
   "cell_type": "code",
   "execution_count": null,
   "id": "arbitrary-memory",
   "metadata": {},
   "outputs": [],
   "source": [
    "fit_mode=0 # using FOM1\n",
    "fit_weight=[1] \n",
    "method = 'simple' # Uncertainty estimated through Hessian matrix\n",
    "\n",
    "res = ref.fit(project, in_file, units, fit_mode,\n",
    "fit_weight,method,resolution,patches, system,\n",
    "global_param,multi_param, constraints,\n",
    "background,scale,experror=False)"
   ]
  }
 ],
 "metadata": {
  "kernelspec": {
   "display_name": "Python 3 (ipykernel)",
   "language": "python",
   "name": "python3"
  },
  "language_info": {
   "codemirror_mode": {
    "name": "ipython",
    "version": 3
   },
   "file_extension": ".py",
   "mimetype": "text/x-python",
   "name": "python",
   "nbconvert_exporter": "python",
   "pygments_lexer": "ipython3",
   "version": "3.13.2"
  }
 },
 "nbformat": 4,
 "nbformat_minor": 5
}
