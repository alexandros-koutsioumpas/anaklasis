{
 "cells": [
  {
   "cell_type": "markdown",
   "id": "traditional-intention",
   "metadata": {},
   "source": [
    "# NR calculations for adsorbed Lysozyme on Si"
   ]
  },
  {
   "cell_type": "markdown",
   "id": "supposed-workshop",
   "metadata": {},
   "source": [
    "Let us consider the expected NR curves from a system of adsorbed Lysozyme protein at the Si/D$_2$O interface. We can build a simple model where the protein is represented by a single (or double) layer. "
   ]
  },
  {
   "cell_type": "code",
   "execution_count": null,
   "id": "advised-meter",
   "metadata": {},
   "outputs": [],
   "source": [
    "from anaklasis import ref\n",
    "\n",
    "# We give a name to the project\n",
    "project='Lyz_D2O_calculations'\n"
   ]
  },
  {
   "cell_type": "markdown",
   "id": "quiet-membership",
   "metadata": {},
   "source": [
    "Now let us define the model (single uniform patch) Si / SiO2 / protein / water and also the model-parameters."
   ]
  },
  {
   "cell_type": "code",
   "execution_count": null,
   "id": "wrapped-slovenia",
   "metadata": {},
   "outputs": [],
   "source": [
    "model_A = [\n",
    "\t# Re_sld Im_sld thk rough solv description\n",
    "\t[  2.07e-6, 0.0, 0, 2.0, 0.0, 'Si'],\n",
    "\t[ 3.5e-6, 0.0, 10, 'p0', 0.0, 'SiO2'],\n",
    "\t[  'p1', 0.0,  0, 0.0, 1.0, 'bulk'],\n",
    "\t]\n",
    "\n",
    "patches=[1.0]\n",
    "system_A=[model_A]\n",
    "\n",
    "global_param_A = [\n",
    "    # param  min  max  description, for type 'uniform'\n",
    "\t['p0', 3.0, 'SiO2_roughness'],\n",
    "\t['p1', 6.35e-6, 'solv_sld'],\n",
    "\t]\n",
    "\n",
    "model_B = [\n",
    "\t# Re_sld Im_sld thk rough solv description\n",
    "\t[  2.07e-6, 0.0, 0, 2.0, 0.0, 'Si'],\n",
    "\t[ 3.5e-6, 0.0, 10, 'p0', 0.0, 'SiO2'],\n",
    "\t[ 'p5', 0.0, 'p1', 'p2', 'p3', 'protein'],\n",
    "\t[  'p4', 0.0,  0, 0.0, 1.0, 'bulk'],\n",
    "\t]\n",
    "\n",
    "patches=[1.0]\n",
    "system_B=[model_B]\n",
    "\n",
    "global_param_B = [\n",
    "    # param  min  max  description, for type 'uniform'\n",
    "\t['p0', 3.0, 'SiO2_roughness'],\n",
    "\t['p1', 35.0, 'protein_thk'],\n",
    "\t['p2', 7.0, 'protein_rough'],\n",
    "\t['p3', 0.7, 'protein_solv'],\n",
    "\t['p4', 6.35e-6, 'solv_sld'],\n",
    "\t['p5', 3.00e-6, 'protein_sld']\n",
    "\t]\n",
    "\n",
    "model_C = [\n",
    "\t# Re_sld Im_sld thk rough solv description\n",
    "\t[  2.07e-6, 0.0, 0, 2.0, 0.0, 'Si'],\n",
    "\t[ 3.5e-6, 0.0, 10, 'p0', 0.0, 'SiO2'],\n",
    "\t[ 'p5', 0.0, 'p1', 'p2', 'p3', 'protein'],\n",
    "\t[  'p4', 0.0,  0, 0.0, 1.0, 'bulk'],\n",
    "\t]\n",
    "\n",
    "patches=[1.0]\n",
    "system_C=[model_C]\n",
    "\n",
    "global_param_C = [\n",
    "    # param  min  max  description, for type 'uniform'\n",
    "\t['p0', 3.0, 'SiO2_roughness'],\n",
    "\t['p1', 25.0, 'protein_thk'],\n",
    "\t['p2', 7.0, 'protein_rough'],\n",
    "\t['p3', 0.7, 'protein_solv'],\n",
    "\t['p4', 6.35e-6, 'solv_sld'],\n",
    "\t['p5', 3.00e-6, 'protein_sld']\n",
    "\t]"
   ]
  },
  {
   "cell_type": "markdown",
   "id": "legal-scholarship",
   "metadata": {},
   "source": [
    "We also set the instrumental parameters"
   ]
  },
  {
   "cell_type": "code",
   "execution_count": null,
   "id": "cubic-williams",
   "metadata": {},
   "outputs": [],
   "source": [
    "resolution=[0.06] # dQ/Q=6%\n",
    "background = [0.5e-6] #no background\n",
    "scale = [1.0]\n",
    "qmax = [0.3]"
   ]
  },
  {
   "cell_type": "markdown",
   "id": "amateur-adoption",
   "metadata": {},
   "source": [
    "Finally we call the anaklasis.fit function"
   ]
  },
  {
   "cell_type": "code",
   "execution_count": null,
   "id": "received-remains",
   "metadata": {},
   "outputs": [],
   "source": [
    "res_A = ref.calculate(project,resolution,patches,system_A,global_param_A\n",
    "\t,background,scale,qmax,plot=False)\n",
    "\n",
    "res_B = ref.calculate(project,resolution,patches,system_B,global_param_B\n",
    "\t,background,scale,qmax,plot=False)\n",
    "\n",
    "res_C = ref.calculate(project,resolution,patches,system_C,global_param_C\n",
    "\t,background,scale,qmax,plot=False)"
   ]
  },
  {
   "cell_type": "markdown",
   "id": "annual-mills",
   "metadata": {},
   "source": [
    "the three dictionaries contain NumPy arrays corresponding to calculated reflectivity, sld and solvent profile. We may use the appropriate dictionary 'keys' to produce a plot for the reflectivity of the three systems."
   ]
  },
  {
   "cell_type": "code",
   "execution_count": null,
   "id": "3e3531ac-6be4-4244-80c2-62620e643f73",
   "metadata": {},
   "outputs": [],
   "source": [
    "import matplotlib.pyplot as plt\n",
    "plt.figure()\n",
    "plt.plot(res_A[(\"reflectivity\")][:,0],res_A[(\"reflectivity\")][:,1],color='red')\n",
    "plt.plot(res_B[(\"reflectivity\")][:,0],res_B[(\"reflectivity\")][:,1],color='blue')\n",
    "plt.plot(res_C[(\"reflectivity\")][:,0],res_C[(\"reflectivity\")][:,1],color='green')\n",
    "plt.yscale('log')\n",
    "plt.xlabel(r'$Q(\\AA^{-1})$')\n",
    "plt.ylabel(r'$R(Q)$')\n",
    "plt.grid(True)\n",
    "plt.draw()\n",
    "\n",
    "plt.figure()\n",
    "plt.plot(res_A[(\"reflectivity\")][10:,0],res_A[(\"reflectivity\")][10:,2],color='red')\n",
    "plt.plot(res_B[(\"reflectivity\")][10:,0],res_B[(\"reflectivity\")][10:,2],color='blue')\n",
    "plt.plot(res_C[(\"reflectivity\")][10:,0],res_C[(\"reflectivity\")][10:,2],color='green')\n",
    "plt.yscale('log')\n",
    "plt.xlabel(r'$Q(\\AA^{-1})$')\n",
    "plt.ylabel(r'$R(Q)Q^4$')\n",
    "plt.grid(True)\n",
    "plt.draw()"
   ]
  },
  {
   "cell_type": "code",
   "execution_count": null,
   "id": "5824f6cd-3858-4e9c-b57c-7aae905a83b2",
   "metadata": {},
   "outputs": [],
   "source": [
    "plt.figure()\n",
    "plt.plot(res_A[(\"profile\")][:,0],results_A[(\"profile\")][:,1],color='red')\n",
    "plt.plot(res_B[(\"profile\")][:,0],res_B[(\"profile\")][:,1],color='blue')\n",
    "plt.plot(res_C[(\"profile\")][:,0],res_C[(\"profile\")][:,1],color='green')\n",
    "plt.xlabel(r'$z(\\AA)$')\n",
    "plt.ylabel(r'$sld(10^{-6}\\AA^{-2})$')\n",
    "plt.draw()"
   ]
  },
  {
   "cell_type": "code",
   "execution_count": null,
   "id": "10775646-5370-4703-8842-1283a941f82f",
   "metadata": {},
   "outputs": [],
   "source": []
  }
 ],
 "metadata": {
  "kernelspec": {
   "display_name": "Python 3 (ipykernel)",
   "language": "python",
   "name": "python3"
  },
  "language_info": {
   "codemirror_mode": {
    "name": "ipython",
    "version": 3
   },
   "file_extension": ".py",
   "mimetype": "text/x-python",
   "name": "python",
   "nbconvert_exporter": "python",
   "pygments_lexer": "ipython3",
   "version": "3.13.2"
  }
 },
 "nbformat": 4,
 "nbformat_minor": 5
}
