{
 "cells": [
  {
   "cell_type": "markdown",
   "id": "traditional-intention",
   "metadata": {},
   "source": [
    "# NR calculations for adsorbed Lysozyme on Si"
   ]
  },
  {
   "cell_type": "markdown",
   "id": "supposed-workshop",
   "metadata": {},
   "source": [
    "Let us consider the expected NR curves from a system of adsorbed Lysozyme protein at the Si/D$_2$O interface. We can build a simple model where the protein is represented by a single (or double) layer. "
   ]
  },
  {
   "cell_type": "code",
   "execution_count": null,
   "id": "advised-meter",
   "metadata": {},
   "outputs": [],
   "source": [
    "from anaklasis import ref\n",
    "\n",
    "# We give a name to the project\n",
    "project='Lyz_D2O_calculations'\n"
   ]
  },
  {
   "cell_type": "markdown",
   "id": "quiet-membership",
   "metadata": {},
   "source": [
    "Now let us define the model (single uniform patch) Si / SiO2 / protein / water and also the model-parameters."
   ]
  },
  {
   "cell_type": "code",
   "execution_count": null,
   "id": "wrapped-slovenia",
   "metadata": {},
   "outputs": [],
   "source": [
    "model_B = [\n",
    "\t# Re_sld Im_sld thk rough solv description\n",
    "\t[  2.07e-6, 0.0, 0, 2.0, 0.0, 'Si'],\n",
    "\t[ 3.5e-6, 0.0, 10, 'p0', 0.0, 'SiO2'],\n",
    "\t[ 'p5', 0.0, 'p1', 'p2', 'p3', 'protein'],\n",
    "\t[  'p4', 0.0,  0, 0.0, 1.0, 'bulk'],\n",
    "\t]\n",
    "\n",
    "patches=[1.0]\n",
    "system=[model]\n",
    "\n",
    "global_param_B = [\n",
    "    # param  min  max  description, for type 'uniform'\n",
    "\t['p0', 3.0, 'SiO2_roughness'],\n",
    "\t['p1', 35.0, 'protein_thk'],\n",
    "\t['p2', 7.0, 'protein_rough'],\n",
    "\t['p3', 0.7, 'protein_solv'],\n",
    "\t['p4', 6.35e-6, 'solv_sld'],\n",
    "\t['p5', 3.00e-6, 'protein_sld']\n",
    "\t]\n",
    "\n"
   ]
  },
  {
   "cell_type": "markdown",
   "id": "legal-scholarship",
   "metadata": {},
   "source": [
    "We also set the instrumental parameters"
   ]
  },
  {
   "cell_type": "code",
   "execution_count": null,
   "id": "cubic-williams",
   "metadata": {},
   "outputs": [],
   "source": [
    "resolution=[0.06] # dQ/Q=6%\n",
    "background = [0.5e-6] #no background\n",
    "scale = [1.0]\n",
    "qmax = [0.3]"
   ]
  },
  {
   "cell_type": "markdown",
   "id": "amateur-adoption",
   "metadata": {},
   "source": [
    "Finally we call the anaklasis.fit function"
   ]
  },
  {
   "cell_type": "code",
   "execution_count": null,
   "id": "received-remains",
   "metadata": {},
   "outputs": [],
   "source": [
    "res = ref.calculate(project,resolution,patches,system,global_param\n",
    "\t,background,scale,qmax,plot=True)"
   ]
  },
  {
   "cell_type": "markdown",
   "id": "annual-mills",
   "metadata": {},
   "source": [
    "As we can see from the plots, the experimental data are nicely fitted using the defined model."
   ]
  }
 ],
 "metadata": {
  "kernelspec": {
   "display_name": "Python 3 (ipykernel)",
   "language": "python",
   "name": "python3"
  },
  "language_info": {
   "codemirror_mode": {
    "name": "ipython",
    "version": 3
   },
   "file_extension": ".py",
   "mimetype": "text/x-python",
   "name": "python",
   "nbconvert_exporter": "python",
   "pygments_lexer": "ipython3",
   "version": "3.13.2"
  }
 },
 "nbformat": 4,
 "nbformat_minor": 5
}
