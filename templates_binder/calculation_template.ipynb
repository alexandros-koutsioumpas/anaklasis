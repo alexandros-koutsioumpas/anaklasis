{
 "cells": [
  {
   "cell_type": "markdown",
   "id": "seven-patrol",
   "metadata": {},
   "source": [
    "## Reflectivity calculations\n",
    "\n",
    "This _jupyter notebook_ template gives you the ability to perform x-ray or neutron reflectivity calculations with _anaklasis_. Edit the interfacial model below according to your needs."
   ]
  },
  {
   "cell_type": "code",
   "execution_count": null,
   "id": "human-mount",
   "metadata": {},
   "outputs": [],
   "source": [
    "from anaklasis import ref"
   ]
  },
  {
   "cell_type": "markdown",
   "id": "through-provision",
   "metadata": {},
   "source": [
    "Below give the name of your project. 'test' is set as default"
   ]
  },
  {
   "cell_type": "code",
   "execution_count": null,
   "id": "agreed-germany",
   "metadata": {},
   "outputs": [],
   "source": [
    "project='test'"
   ]
  },
  {
   "cell_type": "markdown",
   "id": "sufficient-bryan",
   "metadata": {},
   "source": [
    "In most cases we have a single patch of 100% surface coverage"
   ]
  },
  {
   "cell_type": "code",
   "execution_count": null,
   "id": "former-price",
   "metadata": {},
   "outputs": [],
   "source": [
    "patches=[1.0]"
   ]
  },
  {
   "cell_type": "markdown",
   "id": "level-spelling",
   "metadata": {},
   "source": [
    "We define the model _list_ containing our interfacial model. Here we have defined for the case of neutron reflectometery a semi-infinite fronting air layer, semi-infinite backing Si layer and a SiO2 thin layer. You may add layers, and adjust the sld,thickness and other parameters according to your modelling needs."
   ]
  },
  {
   "cell_type": "code",
   "execution_count": null,
   "id": "graphic-silence",
   "metadata": {},
   "outputs": [],
   "source": [
    "model=[\n",
    "\t#  Re_sld  Im_sld   thk rough solv description\n",
    "\t[ 0.00e-5, 0.00e-6,  0 , 'p0', 0.0, 'air'],\n",
    "\t[ 3.47e-6, 0.00e-6, 10 , 'p0', 0.0, 'SiO2'],\n",
    "\t[ 2.07e-6, 0.00e-6,  0 , 0.0, 0.0, 'Si'],\n",
    "\t]"
   ]
  },
  {
   "cell_type": "markdown",
   "id": "heavy-fruit",
   "metadata": {},
   "source": [
    "The roughness in the above model has been associated with a global parameter that we define in the related _list_ below."
   ]
  },
  {
   "cell_type": "markdown",
   "id": "moved-corrections",
   "metadata": {},
   "source": [
    "Since we have a single model, we constuct the _system_ _list_ accordingly"
   ]
  },
  {
   "cell_type": "code",
   "execution_count": null,
   "id": "starting-carol",
   "metadata": {},
   "outputs": [],
   "source": [
    "system=[model]"
   ]
  },
  {
   "cell_type": "code",
   "execution_count": null,
   "id": "double-issue",
   "metadata": {},
   "outputs": [],
   "source": [
    "global_param = [\n",
    "    ['p0', 3.0, 'roughness'],\n",
    "]"
   ]
  },
  {
   "cell_type": "markdown",
   "id": "technical-material",
   "metadata": {},
   "source": [
    "We define instrumental parameters in the relevant _lists_."
   ]
  },
  {
   "cell_type": "code",
   "execution_count": null,
   "id": "nervous-peace",
   "metadata": {},
   "outputs": [],
   "source": [
    "resolution=[0.1] # dQ/Q=10%\n",
    "background = [1.0e-7]\n",
    "scale = [1.0]\n",
    "qmax = [0.3]"
   ]
  },
  {
   "cell_type": "markdown",
   "id": "dried-boards",
   "metadata": {},
   "source": [
    "finally we call the _ref.calculate_ function."
   ]
  },
  {
   "cell_type": "code",
   "execution_count": null,
   "id": "after-primary",
   "metadata": {},
   "outputs": [],
   "source": [
    "results = ref.calculate(project, resolution, \n",
    "\tpatches, system, global_param, \n",
    "\tbackground, scale, qmax, plot=True)"
   ]
  }
 ],
 "metadata": {
  "kernelspec": {
   "display_name": "Python 3",
   "language": "python",
   "name": "python3"
  },
  "language_info": {
   "codemirror_mode": {
    "name": "ipython",
    "version": 3
   },
   "file_extension": ".py",
   "mimetype": "text/x-python",
   "name": "python",
   "nbconvert_exporter": "python",
   "pygments_lexer": "ipython3",
   "version": "3.9.1"
  }
 },
 "nbformat": 4,
 "nbformat_minor": 5
}
