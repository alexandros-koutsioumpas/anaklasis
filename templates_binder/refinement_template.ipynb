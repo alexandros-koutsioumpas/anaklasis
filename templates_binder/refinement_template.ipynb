{
 "cells": [
  {
   "cell_type": "markdown",
   "id": "precious-premises",
   "metadata": {},
   "source": [
    "## Data Refinement\n",
    "\n",
    "This _jupyter notebook_ template gives you the ability to perform x-ray or neutron reflectivity data refinement with _anaklasis_. Edit the interfacial model below according to your needs. From the _file_ -> _open_ menu of the notebook you can go to the directory where this notebook is stored and upload experimental data files that you can import in the code below."
   ]
  },
  {
   "cell_type": "markdown",
   "id": "waiting-highland",
   "metadata": {},
   "source": [
    "First let's import _anaklasis_"
   ]
  },
  {
   "cell_type": "code",
   "execution_count": null,
   "id": "subsequent-andrews",
   "metadata": {},
   "outputs": [],
   "source": [
    "from anaklasis import ref"
   ]
  },
  {
   "cell_type": "markdown",
   "id": "supreme-missouri",
   "metadata": {},
   "source": [
    "We name the project as 'test'. All results will be exported in a folder with this name. Then we import the experimental curves and we set input units to Angstrom or nm. You need to specify the filenames (delete your_file.dat etc..) of the uploaded files."
   ]
  },
  {
   "cell_type": "code",
   "execution_count": null,
   "id": "changing-vinyl",
   "metadata": {},
   "outputs": [],
   "source": [
    "project='test'\n",
    "input_file =['your_file.dat'] # input curve (you may append many curves)\n",
    "units = ['A'] # Q units in Angstrom"
   ]
  },
  {
   "cell_type": "markdown",
   "id": "seasonal-marshall",
   "metadata": {},
   "source": [
    "We usually have a single laterally uniform layer on the substrate so a single defined model (patch) of 100% coverage"
   ]
  },
  {
   "cell_type": "code",
   "execution_count": null,
   "id": "enhanced-oxide",
   "metadata": {},
   "outputs": [],
   "source": [
    "patches=[1.0] # single patch 100% covergae"
   ]
  },
  {
   "cell_type": "markdown",
   "id": "indonesian-savage",
   "metadata": {},
   "source": [
    "As a placeholder we define below a simple air/SiO2/Si interface (for neutron reflectivity) with the roughness defined as a global_parameter. No multi_parameters or constraints are defined and the corresponding _lists_ are empty. Note that parameters can be of type 'uniform' or 'normal'. You will need to change the _model_ list according to your modelling needs."
   ]
  },
  {
   "cell_type": "code",
   "execution_count": null,
   "id": "verified-tender",
   "metadata": {},
   "outputs": [],
   "source": [
    "model=[\n",
    "\t#  Re_sld  Im_sld   thk rough solv description\n",
    "\t[ 0.00e-6, 0.00e-6,  0 , 'p0', 0.0, 'air'],\n",
    "\t[ 3.47e-6, 0.00e-6, 10 , 'p0', 0.0, 'SiO2'],\n",
    "\t[ 2.07e-6, 0.00e-6,  0 , 0.0, 0.0, 'Si'],\n",
    "\t]\n",
    "\n",
    "system=[model] #single model in the system\n",
    "\n",
    "global_param = [\n",
    "    # param  min  max  description  type='uniform'\n",
    "    # param  mean  sd  description  type='normal'\n",
    "\t['p0', 2.00, 4.00, 'roughness', 'uniform'],\n",
    "\t]\n",
    "\n",
    "multi_param = [\n",
    "    \n",
    "] # no multi-parameters\n",
    "\n",
    "constraints = [\n",
    "    \n",
    "] # no constraints"
   ]
  },
  {
   "cell_type": "markdown",
   "id": "frank-brunswick",
   "metadata": {},
   "source": [
    "we specify fit settings"
   ]
  },
  {
   "cell_type": "code",
   "execution_count": null,
   "id": "operating-shark",
   "metadata": {},
   "outputs": [],
   "source": [
    "fit_mode=0 # using FOM1\n",
    "fit_weight=[1] \n",
    "method = 'simple' # can be simple, mcmc or bootstrap"
   ]
  },
  {
   "cell_type": "markdown",
   "id": "southwest-machinery",
   "metadata": {},
   "source": [
    "we also define the instrumental parameters."
   ]
  },
  {
   "cell_type": "code",
   "execution_count": null,
   "id": "micro-genetics",
   "metadata": {},
   "outputs": [],
   "source": [
    "resolution=[0.1] # dQ/Q=10%\n",
    "background = [[0.0,0.0,'uniform']]\n",
    "scale = [[1.0,1.0,'uniform']] #data correctly scaled"
   ]
  },
  {
   "cell_type": "markdown",
   "id": "whole-consultation",
   "metadata": {},
   "source": [
    "we finally call the _ref.fit_ function"
   ]
  },
  {
   "cell_type": "code",
   "execution_count": null,
   "id": "mounted-russell",
   "metadata": {},
   "outputs": [],
   "source": [
    "res = ref.fit(project, in_file, units, fit_mode,\n",
    "fit_weight,method,resolution,patches, system,\n",
    "global_param,multi_param, constraints,\n",
    "background,scale,experror=True, plot=True,fast=True)"
   ]
  }
 ],
 "metadata": {
  "kernelspec": {
   "display_name": "Python 3",
   "language": "python",
   "name": "python3"
  },
  "language_info": {
   "codemirror_mode": {
    "name": "ipython",
    "version": 3
   },
   "file_extension": ".py",
   "mimetype": "text/x-python",
   "name": "python",
   "nbconvert_exporter": "python",
   "pygments_lexer": "ipython3",
   "version": "3.9.1"
  }
 },
 "nbformat": 4,
 "nbformat_minor": 5
}
