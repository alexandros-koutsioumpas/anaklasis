{
 "cells": [
  {
   "cell_type": "markdown",
   "id": "patent-slovakia",
   "metadata": {},
   "source": [
    "Here you can find _Jupyter notebook_ templates for performing calculations and data refinements with _anaklasis_. You may modify the templates for your modelling needs and also upload experimental data files using the _File_ -> _open_ menu of the notebook and then clicking the upload button on the right.\n",
    "\n",
    "![alt text](upload_button.png \"Title\")\n",
    "\n",
    "You may also navigate to the folder (examples with data) that contains several _notebooks_ that include reflectivity data, and experiment with the operation of _anaklasis_."
   ]
  },
  {
   "cell_type": "code",
   "execution_count": null,
   "id": "similar-tuition",
   "metadata": {},
   "outputs": [],
   "source": []
  }
 ],
 "metadata": {
  "kernelspec": {
   "display_name": "Python 3",
   "language": "python",
   "name": "python3"
  },
  "language_info": {
   "codemirror_mode": {
    "name": "ipython",
    "version": 3
   },
   "file_extension": ".py",
   "mimetype": "text/x-python",
   "name": "python",
   "nbconvert_exporter": "python",
   "pygments_lexer": "ipython3",
   "version": "3.9.1"
  }
 },
 "nbformat": 4,
 "nbformat_minor": 5
}
